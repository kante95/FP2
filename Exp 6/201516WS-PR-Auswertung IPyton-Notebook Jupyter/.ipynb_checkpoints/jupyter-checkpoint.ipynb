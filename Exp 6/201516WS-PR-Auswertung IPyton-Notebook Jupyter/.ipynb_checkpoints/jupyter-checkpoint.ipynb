{
 "cells": [
  {
   "cell_type": "markdown",
   "metadata": {},
   "source": [
    "# including some libraries"
   ]
  },
  {
   "cell_type": "code",
   "execution_count": 1,
   "metadata": {},
   "outputs": [],
   "source": [
    "import os\n",
    "import sys\n",
    "import matplotlib.pyplot as plt\n",
    "import plotly.plotly as py\n",
    "import numpy as np\n",
    "import pandas as pd\n",
    "import csv\n",
    "import scipy.constants as consts\n",
    "\n",
    "from bokeh.plotting import figure, output_file, output_notebook, show\n",
    "\n",
    "from plotly.graph_objs import *\n",
    "from scipy.optimize import curve_fit,fsolve\n",
    "from scipy import loadtxt\n",
    "from scipy.special import jv\n",
    "from uncertainties import ufloat\n",
    "from uncertainties.umath import *\n",
    "from math import *\n",
    "#%matplotlib inline"
   ]
  },
  {
   "cell_type": "markdown",
   "metadata": {},
   "source": [
    "# Fit  Functions"
   ]
  },
  {
   "cell_type": "code",
   "execution_count": 2,
   "metadata": {},
   "outputs": [],
   "source": [
    "def func_gaus(x, FWHM, h, x0, const):\n",
    "    return const + h/(1 + 4*((x-x0)/FWHM)**2)\n",
    "def func_lorentz_peak (w, Voff, Vlorentz, width, wresonance,\n",
    "                        Vlorentz2, width2, wresonance2,\n",
    "                        Vlorentz3, width3, wresonance3,\n",
    "                        Vlorentz4, width4, wresonance4,\n",
    "                        Vlorentz5, width5, wresonance5,\n",
    "                        Vlorentz6, width6, wresonance6):\n",
    "    return (Voff+Vlorentz*width/((w-wresonance)**2+(width)**2)+\n",
    "                Vlorentz2*width2/((w-wresonance2)**2+(width2)**2)+\n",
    "                Vlorentz3*width3/((w-wresonance3)**2+(width3)**2)+\n",
    "                Vlorentz4*width4/((w-wresonance4)**2+(width4)**2)+\n",
    "                Vlorentz5*width5/((w-wresonance5)**2+(width5)**2)+\n",
    "                Vlorentz6*width6/((w-wresonance6)**2+(width6)**2))"
   ]
  },
  {
   "cell_type": "markdown",
   "metadata": {},
   "source": [
    "# Functions to improve plot and fit quality"
   ]
  },
  {
   "cell_type": "code",
   "execution_count": 3,
   "metadata": {},
   "outputs": [],
   "source": [
    "def trim_data(xValues,yValues,x_min,x_max):\n",
    "    #determine range indices - only works if the data is sorted ascending!!!\n",
    "    #shift the maximum in the x-axis to 0\n",
    "    \n",
    "    i_min=0\n",
    "    i_max=len(xValues)\n",
    "    \n",
    "    for i in range(len(xValues)):\n",
    "        if xValues[i]<x_min:\n",
    "            i_min=i\n",
    "        if xValues[i]<x_max:\n",
    "            i_max=i\n",
    "    xValues=xValues[i_min:i_max]\n",
    "    yValues=yValues[i_min:i_max]\n",
    "    return xValues, yValues\n",
    "\n",
    "\n",
    "def trim_data_yerr(xValues,yValues,yerr,x_min,x_max):\n",
    "    #determine range indices - only works if the data is sorted ascending!!!\n",
    "    #shift the maximum in the x-axis to 0\n",
    "    \n",
    "    i_min=0\n",
    "    i_max=len(xValues)\n",
    "    \n",
    "    for i in range(len(xValues)):\n",
    "        if xValues[i]<x_min:\n",
    "            i_min=i\n",
    "        if xValues[i]<x_max:\n",
    "            i_max=i\n",
    "    xValues=xValues[i_min:i_max]\n",
    "    yValues=yValues[i_min:i_max]\n",
    "    yerr=yerr[i_min:i_max]\n",
    "    return xValues, yValues, yerr\n",
    "\n",
    "\n",
    "def shift_ymax_to_x_zero(xValues,yValues):\n",
    "    #find the maximum in y\n",
    "    m_index=yValues.index(max(yValues))\n",
    "    time_from_max=xValues[m_index]\n",
    "    for i in range(len(xValues)):\n",
    "        xValues[i]-=time_from_max\n",
    "    return xValues, yValues\n",
    "\n",
    "def shift_ymin_to_x_zero(xValues,yValues):\n",
    "    #find the maximum in y\n",
    "    m_index=yValues.index(min(yValues))\n",
    "    time_from_max=xValues[m_index]\n",
    "    for i in range(len(xValues)):\n",
    "        xValues[i]-=time_from_max\n",
    "    return xValues, yValues"
   ]
  },
  {
   "cell_type": "markdown",
   "metadata": {},
   "source": [
    "#Free Spectral Range (FSR) der Cavity"
   ]
  },
  {
   "cell_type": "code",
   "execution_count": 4,
   "metadata": {},
   "outputs": [
    {
     "name": "stdout",
     "output_type": "stream",
     "text": [
      "(1.4990+/-0.0015)e+09\n"
     ]
    }
   ],
   "source": [
    "L = ufloat(0.1,0.0001) #resonator_length\n",
    "FSR_hertz=consts.c/(2*L) #FSR der Cavity in Hertz\n",
    "print(FSR_hertz)"
   ]
  },
  {
   "cell_type": "markdown",
   "metadata": {},
   "source": [
    "#Übersicht der D2 Linie mit Feinstruktur plotten"
   ]
  },
  {
   "cell_type": "markdown",
   "metadata": {},
   "source": [
    "##Daten einlesen"
   ]
  },
  {
   "cell_type": "code",
   "execution_count": 25,
   "metadata": {},
   "outputs": [],
   "source": [
    "mess_ordner=os.getcwd()+\"\\\\mess\\\\\"\n",
    "messung=\"ALL0007 übersicht ohne sättigung\\\\\"\n",
    "piezo = mess_ordner + messung + \"F0007CH1.csv\"\n",
    "probe = mess_ordner + messung + \"F0007CH3.csv\"\n",
    "FPI = mess_ordner + messung + \"F0007CH4.csv\"\n",
    "\n",
    "#read the files\n",
    "a1, y1 = np.genfromtxt(piezo, delimiter=\",\", usecols=(3,4), unpack=True)\n",
    "t2, y2 = np.genfromtxt(probe, delimiter=\",\", usecols=(3,4), unpack=True)\n",
    "t3, y3 = np.genfromtxt(FPI, delimiter=\",\", usecols=(3,4), unpack=True)\n",
    "\n",
    "\n",
    "#convert the returned nd-arrays to standard python lists\n",
    "t1=a1.tolist()\n",
    "y1=y2.tolist()\n",
    "y2=y2.tolist()\n",
    "y3=y3.tolist()\n",
    "\n",
    "messung=\"ALL0008 übersicht mit sättigung\\\\\"\n",
    "piezo = mess_ordner + messung + \"F0008CH1.csv\"\n",
    "probe = mess_ordner + messung + \"F0008CH3.csv\"\n",
    "FPI = mess_ordner + messung + \"F0008CH4.csv\"\n",
    "\n",
    "#read the files\n",
    "tt1, yy1 = np.genfromtxt(piezo, delimiter=\",\", usecols=(3,4), unpack=True)\n",
    "tt2, yy2 = np.genfromtxt(probe, delimiter=\",\", usecols=(3,4), unpack=True)\n",
    "tt3, yy3 = np.genfromtxt(FPI, delimiter=\",\", usecols=(3,4), unpack=True)\n",
    "\n",
    "#convert the returned nd-arrays to standard python lists\n",
    "tt1=tt1.tolist()\n",
    "yy1=yy2.tolist()\n",
    "yy2=yy2.tolist()\n",
    "yy3=yy3.tolist()"
   ]
  },
  {
   "cell_type": "markdown",
   "metadata": {},
   "source": [
    "##Zeitachse zu Frequenz umrechnen\n",
    "1. die am weitesten auseinander befindlichen Peaks im FPI spektrum mit Gauskurven fitten um deren Positoin zu bestimmen\n",
    "2. die Zeit pro FSR berechnen\n",
    "3. über die Länge des FPI die FSR in Hertz berechnen\n",
    "4. über die FSR in Hertz die Zeitachse zu einer Frequenzachse umrechnen"
   ]
  },
  {
   "cell_type": "code",
   "execution_count": 26,
   "metadata": {},
   "outputs": [
    {
     "name": "stdout",
     "output_type": "stream",
     "text": [
      "zeit pro FSR =  0.0006982+/-0.0000008\n"
     ]
    }
   ],
   "source": [
    "t_l,y_l=trim_data(t1,y3,x_min=-0.00096,x_max=-0.00088)\n",
    "t_r,y_r=trim_data(t1,y3,x_min=0.00326,x_max=0.00332)\n",
    "\n",
    "if False:\n",
    "    #calculate guess curve\n",
    "    xValues_guess=np.linspace(min(t1), max(t1), num=1000)\n",
    "    yValues_guess=func_gaus(xValues_guess, *[0.00001, 4,-0.00092,0])\n",
    "    plt.plot(xValues_guess, yValues_guess)\n",
    "    plt.plot(t1,y3)\n",
    "    plt.show()\n",
    "\n",
    "############################################################################################################################                        \n",
    "#fit the data                   p0=[FWHM, h, x0, const]\n",
    "popt_l, pcov_l = curve_fit(func_gaus, t_l, y_l, p0=[0.00001, 4,-0.00092,0])\n",
    "perr_l = np.sqrt(np.diag(pcov_l))\n",
    "popt_r, pcov_r = curve_fit(func_gaus, t_r, y_r, p0=[0.00001, 4, 0.00328,0])\n",
    "perr_r = np.sqrt(np.diag(pcov_r))\n",
    "#popt : array\n",
    "#       Optimal values for the parameters so that the sum of the squared error\n",
    "#       of f(xdata, *popt) - ydata is minimized\n",
    "#pcov : 2d array\n",
    "#       The estimated covariance of popt. The diagonals provide the variance of the parameter estimate.\n",
    "#       To compute one standard deviation errors on the parameters use perr = np.sqrt(np.diag(pcov))\n",
    "\n",
    "\n",
    "#fit the data\n",
    "t_l=ufloat(popt_l[2],perr_l[2])\n",
    "t_r=ufloat(popt_r[2],perr_r[2])\n",
    "\n",
    "FSR_seconds=(t_r-t_l)/6\n",
    "                \n",
    "print(\"zeit pro FSR = \", FSR_seconds)  # durch 6 teilen, weil zwischen dem Linken und dem rechten Peak 6FSR liegen"
   ]
  },
  {
   "cell_type": "code",
   "execution_count": 27,
   "metadata": {},
   "outputs": [],
   "source": [
    "umrechnungsfaktor=FSR_hertz/FSR_seconds\n",
    "f1=np.multiply(t1,umrechnungsfaktor.nominal_value) #nach dieser umrechnung erhält man t in der einheit von delta_nu.\n",
    "Hyperfeinstruktur=np.subtract(yy2,y1)\n",
    "\n",
    "#daten in die Zwischenablage kopieren, zum Einfügen in ein anderes Plot Programm\n",
    "d = {'verbreitert': y1, 'dopplerfrei': yy2,'FPI':y3, 'Hyperfeinstruktur':np.subtract(yy2,y1)}\n",
    "df = pd.DataFrame(data=d, index=f1)\n",
    "df.to_clipboard()"
   ]
  },
  {
   "cell_type": "code",
   "execution_count": 28,
   "metadata": {},
   "outputs": [],
   "source": [
    "plt.plot(t1,y1, label='doppler verbreitert')\n",
    "plt.plot(t1,yy2, label='doppler frei')\n",
    "#plt.plot(t1,y3, label='FPI')\n",
    "plt.plot(t1,Hyperfeinstruktur, label='Hyperfeinstruktur')\n",
    "plt.xlabel('time (s)')\n",
    "plt.ylabel('voltage (mV)')\n",
    "plt.title('About as simple as it gets, folks')\n",
    "plt.grid=True\n",
    "legend = plt.legend(loc='upper right', shadow=True, fontsize='x-large')\n",
    "plt.show()"
   ]
  },
  {
   "cell_type": "code",
   "execution_count": 29,
   "metadata": {},
   "outputs": [],
   "source": [
    "plt.plot(f1,y1, label='doppler verbreitert')\n",
    "plt.plot(f1,yy2, label='doppler frei')\n",
    "plt.plot(f1,y3, label='FPI')\n",
    "plt.plot(f1,Hyperfeinstruktur, label='Hyperfeinstruktur')\n",
    "plt.xlabel('frequency (Hz)')\n",
    "plt.ylabel('voltage (mV)')\n",
    "plt.title('About as simple as it gets, folks')\n",
    "plt.grid=True\n",
    "legend = plt.legend(loc='upper right', shadow=True, fontsize='x-large')\n",
    "plt.show()"
   ]
  },
  {
   "cell_type": "markdown",
   "metadata": {},
   "source": [
    "#Hyperfeinstruktur plotten"
   ]
  },
  {
   "cell_type": "code",
   "execution_count": 30,
   "metadata": {},
   "outputs": [],
   "source": [
    "messung=\"ALL0009 erste res ohne sätt\\\\\"\n",
    "piezo = mess_ordner + messung + \"F0009CH1.csv\"\n",
    "probe = mess_ordner + messung + \"F0009CH3.csv\"\n",
    "FPI = mess_ordner + messung + \"F0009CH4.csv\"\n",
    "\n",
    "#read the files\n",
    "t1, y1 = np.genfromtxt(piezo, delimiter=\",\", usecols=(3,4), unpack=True)\n",
    "t2, y2 = np.genfromtxt(probe, delimiter=\",\", usecols=(3,4), unpack=True)\n",
    "t3, y3 = np.genfromtxt(FPI, delimiter=\",\", usecols=(3,4), unpack=True)\n",
    "\n",
    "#convert the returned nd-arrays to standard python lists\n",
    "t1=t1.tolist()\n",
    "y1=y2.tolist()\n",
    "y2=y2.tolist()\n",
    "y3=y3.tolist()\n",
    "\n",
    "\n",
    "\n",
    "messung=\"ALL0010 erste res mit sätt\\\\\"\n",
    "piezo = mess_ordner + messung + \"F0010CH1.csv\"\n",
    "probe = mess_ordner + messung + \"F0010CH3.csv\"\n",
    "FPI = mess_ordner + messung + \"F0010CH4.csv\"\n",
    "\n",
    "#read the files\n",
    "tt1, yy1 = np.genfromtxt(piezo, delimiter=\",\", usecols=(3,4), unpack=True)\n",
    "tt2, yy2 = np.genfromtxt(probe, delimiter=\",\", usecols=(3,4), unpack=True)\n",
    "tt3, yy3 = np.genfromtxt(FPI, delimiter=\",\", usecols=(3,4), unpack=True)\n",
    "\n",
    "#convert the returned nd-arrays to standard python lists\n",
    "tt1=tt1.tolist()\n",
    "yy1=yy2.tolist()\n",
    "yy2=yy2.tolist()\n",
    "yy3=yy3.tolist()\n",
    "\n",
    "\n",
    "\n",
    "\n",
    "messung=\"ALL0011 erste res kalib\\\\\"\n",
    "piezo = mess_ordner + messung + \"F0011CH1.csv\"\n",
    "probe = mess_ordner + messung + \"F0011CH3.csv\"\n",
    "FPI = mess_ordner + messung + \"F0011CH4.csv\"\n",
    "\n",
    "#read the files\n",
    "ttt1, yyy1 = np.genfromtxt(piezo, delimiter=\",\", usecols=(3,4), unpack=True)\n",
    "ttt2, yyy2 = np.genfromtxt(probe, delimiter=\",\", usecols=(3,4), unpack=True)\n",
    "ttt3, yyy3 = np.genfromtxt(FPI, delimiter=\",\", usecols=(3,4), unpack=True)\n",
    "\n",
    "#convert the returned nd-arrays to standard python lists\n",
    "ttt1=ttt1.tolist()\n",
    "yyy1=yyy2.tolist()\n",
    "yyy2=yyy2.tolist()\n",
    "yyy3=yyy3.tolist()"
   ]
  },
  {
   "cell_type": "code",
   "execution_count": 31,
   "metadata": {},
   "outputs": [
    {
     "name": "stdout",
     "output_type": "stream",
     "text": [
      "zeit pro FSR =  0.00073567+/-0.00000005\n"
     ]
    }
   ],
   "source": [
    "t_l,y_l=trim_data(ttt1,yyy3,x_min=-0.00037,x_max=-0.00005)\n",
    "t_r,y_r=trim_data(ttt1,yyy3,x_min=0.00037,x_max=0.00057)\n",
    "\n",
    "if False:\n",
    "    #calculate guess curve\n",
    "    xValues_guess=np.linspace(min(ttt1), max(ttt1), num=1000)\n",
    "    yValues_guess=func_gaus(xValues_guess, *[0.00001, 4, 0.000537,0])\n",
    "    plt.plot(xValues_guess, yValues_guess)\n",
    "    plt.plot(ttt1,yyy3)\n",
    "    plt.show()\n",
    "\n",
    "############################################################################################################################                        \n",
    "#fit the data                   p0=[FWHM, h, x0, const]\n",
    "popt_l, pcov_l = curve_fit(func_gaus, t_l, y_l, p0=[0.00001, 4,-0.0002,0])\n",
    "perr_l = np.sqrt(np.diag(pcov_l))\n",
    "popt_r, pcov_r = curve_fit(func_gaus, t_r, y_r, p0=[0.00001, 4, 0.000537,0])\n",
    "perr_r = np.sqrt(np.diag(pcov_r))\n",
    "#popt : array\n",
    "#       Optimal values for the parameters so that the sum of the squared error\n",
    "#       of f(xdata, *popt) - ydata is minimized\n",
    "#pcov : 2d array\n",
    "#       The estimated covariance of popt. The diagonals provide the variance of the parameter estimate.\n",
    "#       To compute one standard deviation errors on the parameters use perr = np.sqrt(np.diag(pcov))\n",
    "\n",
    "\n",
    "#fit the data\n",
    "t_l=ufloat(popt_l[2],perr_l[2])\n",
    "t_r=ufloat(popt_r[2],perr_r[2])\n",
    "\n",
    "FSR_seconds=(t_r-t_l)\n",
    "                \n",
    "print(\"zeit pro FSR = \", FSR_seconds)  # durch 6 teilen, weil zwischen dem Linken und dem rechten Peak 6FSR liegen"
   ]
  },
  {
   "cell_type": "markdown",
   "metadata": {},
   "source": [
    "###Zeitachse skalieren"
   ]
  },
  {
   "cell_type": "code",
   "execution_count": 32,
   "metadata": {},
   "outputs": [],
   "source": [
    "umrechnungsfaktor=FSR_hertz/FSR_seconds\n",
    "f1=np.multiply(t1,umrechnungsfaktor.nominal_value) #nach dieser umrechnung erhält man t in der einheit von delta_nu."
   ]
  },
  {
   "cell_type": "markdown",
   "metadata": {},
   "source": [
    "##Hintergrund von Spektrum entfernen"
   ]
  },
  {
   "cell_type": "code",
   "execution_count": 33,
   "metadata": {},
   "outputs": [],
   "source": [
    "spektrum=np.subtract(y1,yy2)"
   ]
  },
  {
   "cell_type": "markdown",
   "metadata": {},
   "source": [
    "##Spektrum Plotten"
   ]
  },
  {
   "cell_type": "code",
   "execution_count": 34,
   "metadata": {},
   "outputs": [],
   "source": [
    "plt.plot(t1,y1, label='doppler verbreitert')\n",
    "plt.plot(t1,yy2, label='doppler frei')\n",
    "#plt.plot(t1,y3, label='FPI')\n",
    "plt.plot(t1,spektrum, label='Hyperfeinstruktur')\n",
    "plt.xlabel('time (s)')\n",
    "plt.ylabel('voltage (mV)')\n",
    "plt.title('About as simple as it gets, folks')\n",
    "plt.grid=True\n",
    "legend = plt.legend(loc='upper right', shadow=True, fontsize='x-large')\n",
    "plt.show()"
   ]
  },
  {
   "cell_type": "code",
   "execution_count": 35,
   "metadata": {
    "scrolled": false
   },
   "outputs": [],
   "source": [
    "plt.plot(f1,y1, label='doppler verbreitert')\n",
    "plt.plot(f1,yy2, label='doppler frei')\n",
    "#plt.plot(f1,y3, label='FPI')\n",
    "plt.plot(f1,spektrum, label='Hyperfeinstruktur')\n",
    "plt.xlabel('frequency (Hz)')\n",
    "plt.ylabel('voltage (mV)')\n",
    "plt.title('About as simple as it gets, folks')\n",
    "plt.grid=True\n",
    "legend = plt.legend(loc='upper right', shadow=True, fontsize='x-large')\n",
    "plt.show()"
   ]
  },
  {
   "cell_type": "markdown",
   "metadata": {},
   "source": [
    "##peak fitting"
   ]
  },
  {
   "cell_type": "code",
   "execution_count": 36,
   "metadata": {},
   "outputs": [],
   "source": [
    "#t_l,y_l=trim_data(t1,y3,x_min=-0.00096,x_max=-0.00088)\n",
    "#t_r,y_r=trim_data(t1,y3,x_min=0.00326,x_max=0.00332)\n",
    "\n",
    "#func_lorentz_peak (Voff, Vlorentz, width, wresonance)\n",
    "'''p=[0,1,0.00002,-0.00040,\n",
    "    1,0.00002,-0.00036,\n",
    "    1,0.00002,-0.00032,\n",
    "    1,0.00002,-0.00029,\n",
    "    1,0.00002,-0.00025,\n",
    "    1,0.00002,-0.00019]'''\n",
    "\n",
    "p=[-0.01,0.0000002,0.00001,-0.00040,\n",
    "    0.0000006,0.00001,-0.00036,\n",
    "    0.0000004,0.00001,-0.00032,\n",
    "    0.0000010,0.00001,-0.00029,\n",
    "    0.0000016,0.00001,-0.00025,\n",
    "    0.0000002,0.00001,-0.00019]\n",
    "\n",
    "t1,spektrum=trim_data(t1,spektrum,min(t1),-0.00015)\n",
    "    \n",
    "if False:\n",
    "    #calculate guess curve\n",
    "    xValues_guess=np.linspace(min(t1), max(t1), num=1000)\n",
    "    yValues_guess=func_lorentz_peak(xValues_guess, *p)\n",
    "    plt.plot(xValues_guess, yValues_guess)\n",
    "    plt.plot(t1,spektrum)\n",
    "    plt.show()"
   ]
  },
  {
   "cell_type": "code",
   "execution_count": 37,
   "metadata": {},
   "outputs": [],
   "source": [
    "############################################################################################################################                        \n",
    "#fit the data\n",
    "popt, pcov = curve_fit(func_lorentz_peak, t1, spektrum, p0=p)\n",
    "perr = np.sqrt(np.diag(pcov))\n",
    "#popt : array\n",
    "#       Optimal values for the parameters so that the sum of the squared error\n",
    "#       of f(xdata, *popt) - ydata is minimized\n",
    "#pcov : 2d array\n",
    "#       The estimated covariance of popt. The diagonals provide the variance of the parameter estimate.\n",
    "#       To compute one standard deviation errors on the parameters use perr = np.sqrt(np.diag(pcov))"
   ]
  },
  {
   "cell_type": "code",
   "execution_count": 38,
   "metadata": {
    "scrolled": true
   },
   "outputs": [
    {
     "name": "stdout",
     "output_type": "stream",
     "text": [
      "inf inf\n"
     ]
    }
   ],
   "source": [
    "#Derived Person's Chi Squared Value For This Model --> https://en.wikipedia.org/wiki/Goodness_of_fit?oldformat=true#Pearson.27s_chi-squared_test\n",
    "chi_squared = np.sum(((func_lorentz_peak(t1, *popt) - spektrum) ** 2)/spektrum) #funktioniert in diesem Fall nicht, weil die Variable Spektrum = 0 enthält und bei der division durch 0 \"inf\" auftritt\n",
    "\n",
    "reduced_chi_squared = chi_squared / (len(t1) - len(popt)-1)\n",
    "\n",
    "print(chi_squared, reduced_chi_squared)"
   ]
  },
  {
   "cell_type": "code",
   "execution_count": 39,
   "metadata": {},
   "outputs": [],
   "source": [
    "#calculate fitted curve\n",
    "xValues_guess=np.linspace(min(t1), max(t1), num=len(spektrum))\n",
    "yValues_guess=func_lorentz_peak(xValues_guess, *popt)\n",
    "#daten in die Zwischenablage kopieren, zum Einfügen in ein anderes Plot Programm\n",
    "d = {'fitx': xValues_guess*umrechnungsfaktor.nominal_value,\n",
    "     'fity': yValues_guess,\n",
    "     'frequ':np.multiply(t1,umrechnungsfaktor.nominal_value),\n",
    "     'daten': spektrum}\n",
    "df = pd.DataFrame(data=d)\n",
    "df.to_clipboard()\n",
    "if False:\n",
    "    plt.plot(xValues_guess*umrechnungsfaktor.nominal_value, yValues_guess)\n",
    "    plt.plot(np.multiply(t1,umrechnungsfaktor.nominal_value),spektrum)\n",
    "    plt.show()\n",
    "    \n",
    "    \n",
    "    # output to static HTML file\n",
    "    output_file(\"plot_spektrum_fitted.html\")\n",
    "    # create a new plot\n",
    "    p = figure()    \n",
    "    # add some renderers    \n",
    "    p.line(np.multiply(t1,umrechnungsfaktor.nominal_value), spektrum, legend=\"data\")\n",
    "    p.line(xValues_guess*umrechnungsfaktor.nominal_value, yValues_guess, legend=\"fit\")\n",
    "    # show the results\n",
    "    show(p)\n",
    "    \n",
    "\n",
    "\n",
    "\n",
    "#fit the data\n",
    "i=ufloat(popt[3],perr[3])*umrechnungsfaktor\n",
    "h=ufloat(popt[6],perr[6])*umrechnungsfaktor\n",
    "g=ufloat(popt[9],perr[9])*umrechnungsfaktor\n",
    "f=ufloat(popt[12],perr[12])*umrechnungsfaktor\n",
    "e=ufloat(popt[15],perr[15])*umrechnungsfaktor\n",
    "d=ufloat(popt[18],perr[18])*umrechnungsfaktor\n",
    "\n",
    "wi=ufloat(popt[2],perr[2])*umrechnungsfaktor/6e6*2\n",
    "wh=ufloat(popt[5],perr[5])*umrechnungsfaktor/6e6*2\n",
    "wg=ufloat(popt[8],perr[8])*umrechnungsfaktor/6e6*2\n",
    "wf=ufloat(popt[11],perr[11])*umrechnungsfaktor/6e6*2\n",
    "we=ufloat(popt[14],perr[14])*umrechnungsfaktor/6e6*2\n",
    "wd=ufloat(popt[17],perr[17])*umrechnungsfaktor/6e6*2"
   ]
  },
  {
   "cell_type": "code",
   "execution_count": 40,
   "metadata": {},
   "outputs": [
    {
     "name": "stdout",
     "output_type": "stream",
     "text": [
      "6.6+/-1.0 8.01+/-0.22 6.39+/-0.27 6.09+/-0.11 9.41+/-0.07 7.1+/-0.5\n"
     ]
    }
   ],
   "source": [
    "print (wi,wh,wg,wf,we,wd)"
   ]
  },
  {
   "cell_type": "code",
   "execution_count": 41,
   "metadata": {
    "scrolled": true
   },
   "outputs": [
    {
     "name": "stdout",
     "output_type": "stream",
     "text": [
      "(1.624+/-0.017)e+08 (2.649+/-0.010)e+08 (4.272+/-0.019)e+08\n"
     ]
    }
   ],
   "source": [
    "delta_ig=abs(i-g)\n",
    "delta_gd=abs(g-d)\n",
    "delta_id=abs(i-d)\n",
    "print(delta_ig,delta_gd,delta_id)"
   ]
  },
  {
   "cell_type": "markdown",
   "metadata": {},
   "source": [
    "##Funktionen zur Berechnung der Feinstrukturaufspaltung\n",
    "Formeln für die Feinstrukturkonstanten von Rb87 (Kernspin I=3/2) im 5^2P_{3/2}  Zustand (J=3/2 .. gekennzeichnet durch _{J})\n",
    "\n",
    "->I=3/2\n",
    "\n",
    "->J=3/2"
   ]
  },
  {
   "cell_type": "code",
   "execution_count": 42,
   "metadata": {},
   "outputs": [],
   "source": [
    "#\\delta nu = A/2 * K + B * bruch\n",
    "\n",
    "def K(F):\n",
    "    J=3/2\n",
    "    I=3/2\n",
    "    return (F*(F+1)-J*(J+1)-(I*(I+1)))\n",
    "def bruch(F):\n",
    "    J=3/2\n",
    "    I=3/2\n",
    "    return (3/4*K(F)*(K(F)+1)-I*(I+1)*J*(J+1)) / (2*I*(2*I-1)*J*(2*J-1))\n",
    "\n",
    "def delta_bruch(f1,f2):\n",
    "    return bruch(f2)-bruch(f1)\n",
    "\n",
    "def delta_K(f1,f2):\n",
    "    return K(f2)-K(f1)"
   ]
  },
  {
   "cell_type": "code",
   "execution_count": 43,
   "metadata": {
    "scrolled": false
   },
   "outputs": [
    {
     "name": "stdout",
     "output_type": "stream",
     "text": [
      "dieses Gleichungsystem wird in der nächsten Zelle gelöst:\n",
      "G->D: A 2.0 +  -1.0 B = delta_gd\n",
      "I->D: A 5.0 +  0.0 B = delta_id \n",
      "\n",
      "I->G: A -3.0 + -1.0 B = delta_ig  #diese Gleichung wird nicht verwendet.\n"
     ]
    }
   ],
   "source": [
    "#Im Fall, dass aus den Zwischen-Peakabständen einer \"6er Peakgruppe\"\n",
    "#die Hyperfeinstrukturkopplungskonstanten bestimmt werden soll\n",
    "#ist von den Quantenzahlen I und J immer constant! --> Nur F ändert sich\n",
    "\n",
    "b_ig=delta_bruch(3,2)\n",
    "a_ig=delta_K(3,2) / 2\n",
    "\n",
    "b_id=delta_bruch(3,1)\n",
    "a_id=delta_K(3,1) / 2\n",
    "\n",
    "b_gd=delta_bruch(2,1)\n",
    "a_gd=delta_K(2,1) / 2\n",
    "\n",
    "print(\"dieses Gleichungsystem wird in der nächsten Zelle gelöst:\")\n",
    "print(\"G->D: A\",-a_gd,\"+ \",-b_gd,\"B = delta_gd\")\n",
    "print(\"I->D: A\",-a_id,\"+ \",b_id,\"B = delta_id \\n\")\n",
    "\n",
    "print(\"I->G: A\",a_ig,\"+\",b_ig,\"B = delta_ig  #diese Gleichung wird nicht verwendet.\")"
   ]
  },
  {
   "cell_type": "code",
   "execution_count": 44,
   "metadata": {},
   "outputs": [
    {
     "name": "stdout",
     "output_type": "stream",
     "text": [
      "Kopplungskonstanten A und B in Hz:\n",
      " (-8.54+/-0.04)e+07 (-1.20+/-0.07)e+07\n"
     ]
    }
   ],
   "source": [
    "#das hier liefert die RICHTIGEN Ergebnisse!!!!!\n",
    "#es werden zufällig die richtigen Koeffizienten verwendet,\n",
    "#obwohl die Peaks F=1,2,3 nicht mit der benennung i,g,d übereinstimmt\n",
    "#tatsächlich wäre\n",
    "#i:F=1\n",
    "#g:F=2\n",
    "#d:F=3\n",
    "#deswegen werden die Koeefizienten in der oberen Zelle falsch zugewiesen,\n",
    "#Sie sind aber in den unteren Beiden Formeln richtig eingesetzt!!\n",
    "\n",
    "A=delta_id/a_id\n",
    "B=(delta_id-delta_gd*a_ig/a_gd)/(b_id-b_gd*a_id/a_gd)\n",
    "print(\"Kopplungskonstanten A und B in Hz:\\n\", A,B)"
   ]
  },
  {
   "cell_type": "code",
   "execution_count": null,
   "metadata": {
    "collapsed": true
   },
   "outputs": [],
   "source": []
  }
 ],
 "metadata": {
  "kernelspec": {
   "display_name": "Python 3",
   "language": "python",
   "name": "python3"
  },
  "language_info": {
   "codemirror_mode": {
    "name": "ipython",
    "version": 3
   },
   "file_extension": ".py",
   "mimetype": "text/x-python",
   "name": "python",
   "nbconvert_exporter": "python",
   "pygments_lexer": "ipython3",
   "version": "3.6.4"
  }
 },
 "nbformat": 4,
 "nbformat_minor": 1
}
